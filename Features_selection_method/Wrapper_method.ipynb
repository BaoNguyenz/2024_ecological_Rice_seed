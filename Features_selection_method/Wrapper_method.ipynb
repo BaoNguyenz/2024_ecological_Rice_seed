{
 "cells": [
  {
   "cell_type": "code",
   "execution_count": 1,
   "metadata": {},
   "outputs": [],
   "source": [
    "import pandas as pd\n",
    "import numpy as np\n",
    "from sklearn.model_selection import train_test_split\n",
    "from sklearn.preprocessing import StandardScaler, LabelEncoder\n",
    "from sklearn.ensemble import RandomForestClassifier, ExtraTreesClassifier\n",
    "from sklearn.neighbors import KNeighborsClassifier\n",
    "from sklearn.svm import SVC\n",
    "from sklearn.linear_model import LogisticRegression\n",
    "from sklearn.tree import DecisionTreeClassifier\n",
    "from sklearn.metrics import accuracy_score, f1_score\n",
    "from sklearn.base import clone\n",
    "from sklearn.feature_selection import RFE\n",
    "from mlxtend.feature_selection import SequentialFeatureSelector as SFS\n",
    "from tqdm import tqdm\n",
    "import xgboost as xgb\n",
    "from catboost import CatBoostClassifier"
   ]
  },
  {
   "cell_type": "code",
   "execution_count": null,
   "metadata": {},
   "outputs": [],
   "source": [
    "df = pd.read_csv(r'')\n",
    "df.head()"
   ]
  },
  {
   "cell_type": "code",
   "execution_count": 3,
   "metadata": {},
   "outputs": [],
   "source": [
    "X = df.drop(columns=['class'])\n",
    "y = df['class']\n",
    "\n",
    "lable_encoder = LabelEncoder()\n",
    "y = lable_encoder.fit_transform(y)\n",
    "\n",
    "scaler = StandardScaler()\n",
    "X_scaled = scaler.fit_transform(X)"
   ]
  },
  {
   "cell_type": "code",
   "execution_count": 4,
   "metadata": {},
   "outputs": [],
   "source": [
    "classifiers = {\n",
    "    \"KNN\": KNeighborsClassifier(),\n",
    "    \"SVM\": SVC(),\n",
    "    \"Random Forest\": RandomForestClassifier(n_estimators=300, random_state=42),\n",
    "    \"Logistic Regression\": LogisticRegression(max_iter=1000, random_state=42),\n",
    "    \"XGBoost\": xgb.XGBClassifier(eval_metric='logloss', random_state=42),\n",
    "    \"CatBoost\": CatBoostClassifier(verbose=0, random_state=42),\n",
    "    \"Extra Trees\": ExtraTreesClassifier(n_estimators=300, random_state=42),\n",
    "    \"Decision Tree\": DecisionTreeClassifier(random_state=42),\n",
    "}"
   ]
  },
  {
   "cell_type": "markdown",
   "metadata": {},
   "source": [
    "## Recursive Features Elimination (RFE)"
   ]
  },
  {
   "cell_type": "code",
   "execution_count": null,
   "metadata": {},
   "outputs": [],
   "source": [
    "clf_for_rfe = RandomForestClassifier(n_estimators=300, random_state=42)\n",
    "rfe = RFE(estimator=clf_for_rfe, n_features_to_select=80)\n",
    "rfe.fit(X_scaled, y)\n",
    "\n",
    "selected_features_RFE = X.columns[rfe.support_]\n",
    "ranking_features_RFE = rfe.ranking_\n",
    "\n",
    "print(\"Selected features: \", selected_features_RFE)\n",
    "\n",
    "X_filtered = pd.DataFrame(rfe.transform(X_scaled), columns=selected_features_RFE)"
   ]
  },
  {
   "cell_type": "code",
   "execution_count": null,
   "metadata": {},
   "outputs": [],
   "source": [
    "features_ranking = pd.DataFrame({\n",
    "    'Feature': X.columns,\n",
    "    'Ranking': ranking_features_RFE\n",
    "})\n",
    "\n",
    "features_ranking_sorted = features_ranking.sort_values(by='Ranking')\n",
    "\n",
    "features_ranking_selected = features_ranking_sorted[features_ranking_sorted['Ranking'] == 1]\n",
    "\n",
    "print(\"Sorted features by ranking (high to low):\")\n",
    "features_ranking_selected.set_index('Feature', inplace=True)\n",
    "print(features_ranking_selected.index)\n",
    "\n",
    "features_ranking_selected\n",
    "\n",
    "print(\"Feature ranking:\\n\", features_ranking_sorted)"
   ]
  },
  {
   "cell_type": "code",
   "execution_count": null,
   "metadata": {},
   "outputs": [],
   "source": [
    "results = {}\n",
    "\n",
    "for clf_name, clf in classifiers.items():\n",
    "    accuracies = []\n",
    "    f1_scores = []\n",
    "    \n",
    "    for _ in tqdm(range(1)): \n",
    "        X_train, X_test, y_train, y_test = train_test_split(X_filtered, y, test_size=0.3, random_state=None, shuffle=True)\n",
    "        \n",
    "        clf_clone_train = clone(clf)\n",
    "        clf_clone_train.fit(X_train, y_train)\n",
    "        \n",
    "        y_pred = clf_clone_train.predict(X_test)\n",
    "        \n",
    "        accuracies.append(accuracy_score(y_test, y_pred))\n",
    "        f1_scores.append(f1_score(y_test, y_pred, average='weighted'))\n",
    "    \n",
    "    min_accuracy = np.min(accuracies)\n",
    "    max_accuracy = np.max(accuracies)\n",
    "    avg_accuracy = np.mean(accuracies)\n",
    "    avg_f1_score = np.mean(f1_scores)\n",
    "    \n",
    "    results[clf_name] = (min_accuracy, max_accuracy, avg_accuracy, avg_f1_score)\n",
    "    \n",
    "    print(f'{clf_name} - Min Accuracy: {min_accuracy:.4f}, Max Accuracy: {max_accuracy:.4f}, Average Accuracy: {avg_accuracy:.4f}, Average F1 Score: {avg_f1_score:.4f}')"
   ]
  }
 ],
 "metadata": {
  "kernelspec": {
   "display_name": "Python 3",
   "language": "python",
   "name": "python3"
  },
  "language_info": {
   "codemirror_mode": {
    "name": "ipython",
    "version": 3
   },
   "file_extension": ".py",
   "mimetype": "text/x-python",
   "name": "python",
   "nbconvert_exporter": "python",
   "pygments_lexer": "ipython3",
   "version": "3.10.0"
  }
 },
 "nbformat": 4,
 "nbformat_minor": 2
}
